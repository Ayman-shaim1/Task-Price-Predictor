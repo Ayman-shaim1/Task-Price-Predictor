{
 "cells": [
  {
   "cell_type": "code",
   "execution_count": 104,
   "id": "0f3de5c8",
   "metadata": {},
   "outputs": [
    {
     "name": "stdout",
     "output_type": "stream",
     "text": [
      "Libraries imported\n"
     ]
    }
   ],
   "source": [
    "\n",
    "import pandas as pd\n",
    "from sklearn.model_selection import train_test_split\n",
    "from sklearn.linear_model import LinearRegression\n",
    "from sklearn.metrics import mean_squared_error\n",
    "from sentence_transformers import SentenceTransformer\n",
    "import joblib\n",
    "print(\"Libraries imported\")"
   ]
  },
  {
   "cell_type": "code",
   "execution_count": null,
   "id": "be3743b6",
   "metadata": {},
   "outputs": [],
   "source": [
    "# Load the datasets\n",
    "service_applications = pd.read_csv(\"csv/final_v4_serviceApplications.csv\")\n",
    "service_task_proposals = pd.read_csv(\"csv/final_v4_serviceTaskProposals.csv\")\n",
    "service_requests = pd.read_csv(\"csv/final_v4_serviceRequests.csv\")\n",
    "service_tasks = pd.read_csv(\"csv/final_v4_serviceTasks.csv\")"
   ]
  },
  {
   "cell_type": "code",
   "execution_count": null,
   "id": "820f1209",
   "metadata": {},
   "outputs": [],
   "source": [
    "#  Step 1: Filter accepted applications\n",
    "accepted_apps = service_applications[service_applications[\"status\"] == \"accepted\"]\n",
    "accepted_ids = accepted_apps[\"$id\"].tolist()\n",
    "\n",
    "#  Step 2: Filter valid proposals linked to accepted applications\n",
    "valid_proposals = service_task_proposals[\n",
    "    service_task_proposals[\"serviceApplication\"].isin(accepted_ids)\n",
    "]\n",
    "\n",
    "#  Step 3: Merge with serviceTasks and serviceRequests\n",
    "merged = valid_proposals.merge(\n",
    "    service_tasks, left_on=\"serviceTask\", right_on=\"$id\", suffixes=(\"\", \"_task\")\n",
    ").merge(\n",
    "    service_requests, left_on=\"serviceRequest\", right_on=\"$id\", suffixes=(\"\", \"_request\")\n",
    ")"
   ]
  },
  {
   "cell_type": "code",
   "execution_count": 101,
   "id": "d4114eaa",
   "metadata": {},
   "outputs": [],
   "source": [
    "# Step 4: Build the training DataFrame\n",
    "df = pd.DataFrame({\n",
    "    \"title\": merged[\"title_request\"],\n",
    "    \"desc\": merged[\"description_request\"],\n",
    "    \"title_task\": merged[\"title\"],\n",
    "    \"desc_task\": merged[\"description\"],\n",
    "    \"price\": merged[\"newPrice\"]\n",
    "})\n",
    "\n",
    "df = df.fillna(\"\")  # Fill missing values\n",
    "\n",
    "# 🧠 Step 5: Combine text fields into a single column\n",
    "df[\"combined_text\"] = df[[\"title\", \"desc\", \"title_task\", \"desc_task\"]].agg(\" \".join, axis=1)\n"
   ]
  },
  {
   "cell_type": "code",
   "execution_count": 103,
   "id": "651182e9",
   "metadata": {},
   "outputs": [
    {
     "name": "stdout",
     "output_type": "stream",
     "text": [
      "RMSE: 7041.527831028888\n"
     ]
    }
   ],
   "source": [
    "#  Step 6: Use SentenceTransformer to encode text\n",
    "model_embed = SentenceTransformer('all-MiniLM-L6-v2')\n",
    "X_vectors = model_embed.encode(df[\"combined_text\"].tolist())\n",
    "y = df[\"price\"]\n",
    "\n",
    "#  Step 7: Train/test split\n",
    "X_train, X_test, y_train, y_test = train_test_split(X_vectors, y, test_size=0.2, random_state=42)\n",
    "\n",
    "#  Step 8: Train regression model\n",
    "model = LinearRegression()\n",
    "model.fit(X_train, y_train)\n",
    "\n",
    "#  Evaluate the model\n",
    "y_pred = model.predict(X_test)\n",
    "rmse = mean_squared_error(y_test, y_pred)\n",
    "print(\"RMSE:\", rmse)\n"
   ]
  },
  {
   "cell_type": "code",
   "execution_count": null,
   "id": "0b220423",
   "metadata": {},
   "outputs": [
    {
     "name": "stdout",
     "output_type": "stream",
     "text": [
      "157.24036\n"
     ]
    }
   ],
   "source": [
    "#  Step 9: Example prediction\n",
    "example = {\n",
    "    \"title\": \"Garden cleanup and tree trimming\",\n",
    "    \"desc\": \"Remove fallen leaves, trim bushes, and cut overgrown tree branches from the backyard.\",\n",
    "    \"title_task\": \"Clean and mow front yard\",\n",
    "    \"desc_task\": \"Mow 200m² of grass in the front yard. Collect all grass and debris. Type: standard. Location: front yard. Quantity: 1\"\n",
    "}\n",
    "example[\"combined_text\"] = \" \".join([\n",
    "    example[\"title\"],\n",
    "    example[\"desc\"],\n",
    "    example[\"title_task\"],\n",
    "    example[\"desc_task\"]\n",
    "])\n",
    "example_vector = model_embed.encode([example[\"combined_text\"]])\n",
    "predicted_price = model.predict(example_vector)[0]\n",
    "\n",
    "print(predicted_price)"
   ]
  },
  {
   "cell_type": "code",
   "execution_count": 105,
   "id": "d75a239d",
   "metadata": {},
   "outputs": [
    {
     "name": "stdout",
     "output_type": "stream",
     "text": [
      "Model saved\n"
     ]
    }
   ],
   "source": [
    "joblib.dump((model_embed, model), \"price_model.pkl\")\n",
    "print(\"Model saved\")"
   ]
  }
 ],
 "metadata": {
  "kernelspec": {
   "display_name": "venv",
   "language": "python",
   "name": "python3"
  },
  "language_info": {
   "codemirror_mode": {
    "name": "ipython",
    "version": 3
   },
   "file_extension": ".py",
   "mimetype": "text/x-python",
   "name": "python",
   "nbconvert_exporter": "python",
   "pygments_lexer": "ipython3",
   "version": "3.12.5"
  }
 },
 "nbformat": 4,
 "nbformat_minor": 5
}
