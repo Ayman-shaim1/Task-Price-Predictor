{
 "cells": [
  {
   "cell_type": "code",
   "execution_count": 70,
   "id": "0f3de5c8",
   "metadata": {},
   "outputs": [
    {
     "name": "stderr",
     "output_type": "stream",
     "text": [
      "/Users/Apple/Documents/Python-projects/Task Price Predictor/venv/lib/python3.12/site-packages/tqdm/auto.py:21: TqdmWarning: IProgress not found. Please update jupyter and ipywidgets. See https://ipywidgets.readthedocs.io/en/stable/user_install.html\n",
      "  from .autonotebook import tqdm as notebook_tqdm\n"
     ]
    },
    {
     "name": "stdout",
     "output_type": "stream",
     "text": [
      "imported libraries\n"
     ]
    }
   ],
   "source": [
    "import pandas as pd\n",
    "from sklearn.model_selection import train_test_split\n",
    "from sklearn.linear_model import LinearRegression\n",
    "from sklearn.metrics import mean_squared_error\n",
    "from sentence_transformers import SentenceTransformer\n",
    "\n",
    "print(\"imported libraries\")"
   ]
  },
  {
   "cell_type": "code",
   "execution_count": 71,
   "id": "be3743b6",
   "metadata": {},
   "outputs": [],
   "source": [
    "# 📥 Load the datasets\n",
    "service_applications = pd.read_csv(\"csv/final_v4_serviceApplications.csv\")\n",
    "service_task_proposals = pd.read_csv(\"csv/final_v4_serviceTaskProposals.csv\")\n",
    "service_requests = pd.read_csv(\"csv/final_v4_serviceRequests.csv\")\n",
    "service_tasks = pd.read_csv(\"csv/final_v4_serviceTasks.csv\")"
   ]
  },
  {
   "cell_type": "code",
   "execution_count": 72,
   "id": "820f1209",
   "metadata": {},
   "outputs": [],
   "source": [
    "# 🎯 Step 1: Filter accepted applications\n",
    "accepted_apps = service_applications[service_applications[\"status\"] == \"accepted\"]\n",
    "accepted_ids = accepted_apps[\"$id\"].tolist()\n",
    "\n",
    "# 🎯 Step 2: Filter valid proposals linked to accepted applications\n",
    "valid_proposals = service_task_proposals[\n",
    "    service_task_proposals[\"serviceApplication\"].isin(accepted_ids)\n",
    "]\n",
    "\n",
    "# 🔗 Step 3: Merge with serviceTasks and serviceRequests\n",
    "merged = valid_proposals.merge(\n",
    "    service_tasks, left_on=\"serviceTask\", right_on=\"$id\", suffixes=(\"\", \"_task\")\n",
    ").merge(\n",
    "    service_requests, left_on=\"serviceRequest\", right_on=\"$id\", suffixes=(\"\", \"_request\")\n",
    ")"
   ]
  },
  {
   "cell_type": "code",
   "execution_count": 73,
   "id": "d4114eaa",
   "metadata": {},
   "outputs": [],
   "source": [
    "# Étape 4 : Créer un DataFrame d’entraînement avec les bons champs\n",
    "df = pd.DataFrame({\n",
    "    \"titre_prestation\": merged[\"title_request\"],\n",
    "    \"desc_prestation\": merged[\"description_request\"],\n",
    "    \"titre_tache\": merged[\"title\"],\n",
    "    \"desc_tache\": merged[\"description\"],\n",
    "    \"prix\": merged[\"newPrice\"]\n",
    "})\n",
    "\n",
    "# Remplacer les NaN éventuels\n",
    "df = df.fillna(\"\")"
   ]
  },
  {
   "cell_type": "code",
   "execution_count": 74,
   "id": "651182e9",
   "metadata": {},
   "outputs": [],
   "source": [
    "# 🧹 Step 4: Build the training DataFrame\n",
    "df = pd.DataFrame({\n",
    "    \"titre_prestation\": merged[\"title_request\"],\n",
    "    \"desc_prestation\": merged[\"description_request\"],\n",
    "    \"titre_tache\": merged[\"title\"],\n",
    "    \"desc_tache\": merged[\"description\"],\n",
    "    \"prix\": merged[\"newPrice\"]\n",
    "})\n",
    "\n",
    "df = df.fillna(\"\")  # Fill missing values\n",
    "\n",
    "# 🧠 Step 5: Combine text fields into a single column\n",
    "df[\"combined_text\"] = df[[\"titre_prestation\", \"desc_prestation\", \"titre_tache\", \"desc_tache\"]].agg(\" \".join, axis=1)\n",
    "\n",
    "# 🔢 Step 6: Use SentenceTransformer to encode text\n",
    "model_embed = SentenceTransformer('all-MiniLM-L6-v2')\n",
    "X_vectors = model_embed.encode(df[\"combined_text\"].tolist())\n",
    "y = df[\"prix\"]\n",
    "\n",
    "# 🎓 Step 7: Train/test split\n",
    "X_train, X_test, y_train, y_test = train_test_split(X_vectors, y, test_size=0.2, random_state=42)\n",
    "\n",
    "# 📈 Step 8: Train regression model\n",
    "model = LinearRegression()\n",
    "model.fit(X_train, y_train)\n",
    "\n",
    "# 📊 Evaluate the model\n",
    "y_pred = model.predict(X_test)\n",
    "rmse = mean_squared_error(y_test, y_pred)"
   ]
  },
  {
   "cell_type": "code",
   "execution_count": null,
   "id": "0b220423",
   "metadata": {},
   "outputs": [
    {
     "data": {
      "text/plain": [
       "np.float32(87.98071)"
      ]
     },
     "execution_count": 76,
     "metadata": {},
     "output_type": "execute_result"
    }
   ],
   "source": [
    "# 🧪 Step 9: Example prediction\n",
    "example = {\n",
    "    \"titre_prestation\": \"Install water heater\",\n",
    "    \"desc_prestation\": \"Replace old heater with new electric model.\",\n",
    "    \"titre_tache\": \"Urgent Fix leaking sink in the rooftop\",\n",
    "    \"desc_tache\": \"Identify and repair kitchen sink leak. Location: rooftop, Quantity: 3, Type: urgent.\"\n",
    "}\n",
    "example[\"combined_text\"] = \" \".join([\n",
    "    example[\"titre_prestation\"],\n",
    "    example[\"desc_prestation\"],\n",
    "    example[\"titre_tache\"],\n",
    "    example[\"desc_tache\"]\n",
    "])\n",
    "example_vector = model_embed.encode([example[\"combined_text\"]])\n",
    "predicted_price = model.predict(example_vector)[0]\n",
    "\n",
    "print(predicted_price)"
   ]
  }
 ],
 "metadata": {
  "kernelspec": {
   "display_name": "venv",
   "language": "python",
   "name": "python3"
  },
  "language_info": {
   "codemirror_mode": {
    "name": "ipython",
    "version": 3
   },
   "file_extension": ".py",
   "mimetype": "text/x-python",
   "name": "python",
   "nbconvert_exporter": "python",
   "pygments_lexer": "ipython3",
   "version": "3.12.5"
  }
 },
 "nbformat": 4,
 "nbformat_minor": 5
}
